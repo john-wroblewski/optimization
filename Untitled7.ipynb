{
 "cells": [
  {
   "cell_type": "code",
   "execution_count": 1,
   "metadata": {
    "collapsed": true
   },
   "outputs": [],
   "source": [
    "using JuMP, PyPlot, Cbc"
   ]
  },
  {
   "cell_type": "code",
   "execution_count": null,
   "metadata": {
    "collapsed": false
   },
   "outputs": [],
   "source": [
    "m = Model(solver=CbcSolver())\n",
    "\n",
    "s = 50\n",
    "N = s*s  # number of nodes\n",
    "\n",
    "# Number of allowed access points\n",
    "Allowed = 7\n",
    "\n",
    "# effective radius of the chosen AP\n",
    "R = 8\n",
    "\n",
    "buf = s + 2*R\n",
    "\n",
    "@variable(m, AP[1:buf,1:buf], Bin)\n",
    "@variable(m, P[1:buf,1:buf], Bin)\n",
    "\n",
    "@constraint(m, sum(AP[R + i,R + j] for i = 1:s, j = 1:s) <= Allowed)\n",
    "    \n",
    "@constraint(m, sum(AP[i,j] for i = 1:R,j = 1:buf) == 0)\n",
    "@constraint(m, sum(AP[R + s + i,j] for i = 1:R,j = 1:buf) == 0)\n",
    "@constraint(m, sum(AP[i,j] for i = 1:buf,j = 1:R) == 0)\n",
    "@constraint(m, sum(AP[i,R + s + j] for i = 1:buf,j = 1:R) == 0)\n",
    "\n",
    "for i = 1:s, j = 1:s\n",
    "    x = R + i\n",
    "    y = R + j\n",
    "            \n",
    "    @constraint(m, P[x,y] <= sum(AP[x+a,y+b] for a = 0:R,b = 0:(R-a))\n",
    "                           + sum(AP[x+a,y-b] for a = 0:R,b = 0:(R-a))\n",
    "                           + sum(AP[x-a,y+b] for a = 0:R,b = 0:(R-a))\n",
    "                           + sum(AP[x-a,y-b] for a = 0:R,b = 0:(R-a)))\n",
    "end\n",
    "@objective(m, Max, sum(P[R + i,R + j] for i = 1:s,j = 1:s));"
   ]
  },
  {
   "cell_type": "code",
   "execution_count": null,
   "metadata": {
    "collapsed": false
   },
   "outputs": [],
   "source": [
    "solve(m)"
   ]
  },
  {
   "cell_type": "code",
   "execution_count": null,
   "metadata": {
    "collapsed": false
   },
   "outputs": [],
   "source": [
    "A = getvalue(P)\n",
    "B = getvalue(AP)\n",
    "\n",
    "Θ = linspace(0,2π,50)\n",
    "figure(figsize=(s/3,s/3))\n",
    "\n",
    "for i = 1:s,j = 1:s\n",
    "    if A[R + i,R + j] == 1\n",
    "        plot(i,j,\"b.\")\n",
    "    else\n",
    "        plot(i,j,\"g.\")\n",
    "    end\n",
    "    if B[R + i,R + j] == 1\n",
    "        plot(i,j,\"r.\")\n",
    "        plot(i + R*cos(Θ), j + R*sin(θ), \"r-\")\n",
    "    end\n",
    "end"
   ]
  },
  {
   "cell_type": "code",
   "execution_count": null,
   "metadata": {
    "collapsed": true
   },
   "outputs": [],
   "source": []
  }
 ],
 "metadata": {
  "kernelspec": {
   "display_name": "Julia 0.5.1",
   "language": "julia",
   "name": "julia-0.5"
  },
  "language_info": {
   "file_extension": ".jl",
   "mimetype": "application/julia",
   "name": "julia",
   "version": "0.5.1"
  }
 },
 "nbformat": 4,
 "nbformat_minor": 1
}
