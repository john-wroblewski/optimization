{
 "cells": [
  {
   "cell_type": "markdown",
   "metadata": {},
   "source": [
    "## Optimal Diet\n",
    "Using Stigler's data, we construct the optimal diet that meets most nutrient requirements. "
   ]
  },
  {
   "cell_type": "code",
   "execution_count": 2,
   "metadata": {
    "collapsed": false
   },
   "outputs": [],
   "source": [
    "using NamedArrays      # make sure you run Pkg.add(\"NamedArrays\") first!\n",
    "\n",
    "# import Stigler's data set\n",
    "raw = readcsv(\"/home/john/Documents/Optimization/stigler.csv\")\n",
    "(m,n) = size(raw)\n",
    "\n",
    "n_nutrients = 2:n      # columns containing nutrients\n",
    "n_foods = 3:m          # rows containing food names\n",
    "\n",
    "nutrients = raw[1,n_nutrients][:]   # the list of nutrients (convert to 1-D array)\n",
    "foods = raw[n_foods,1][:]           # the list of foods (convert to 1-D array)\n",
    "\n",
    "# lower[i] is the minimum daily requirement of nutrient i.\n",
    "lower = Dict( zip(nutrients,raw[2,n_nutrients]) )\n",
    "\n",
    "# data[f,i] is the amount of nutrient i contained in food f.\n",
    "data = NamedArray( raw[n_foods,n_nutrients], (foods,nutrients), (\"foods\",\"nutrients\") );"
   ]
  },
  {
   "cell_type": "code",
   "execution_count": 3,
   "metadata": {
    "collapsed": false
   },
   "outputs": [
    {
     "data": {
      "text/plain": [
       ":Optimal"
      ]
     },
     "execution_count": 3,
     "metadata": {},
     "output_type": "execute_result"
    }
   ],
   "source": [
    "using JuMP\n",
    "\n",
    "m = Model()\n",
    "\n",
    "@variable(m, foodquant[foods] >= 0)\n",
    "@expression(m, cost, sum(foodquant[f] for f in foods))\n",
    "for i in 1:length(nutrients)\n",
    "    @constraint(m, sum(foodquant[f] * data[f,i] for f in foods) >= lower[nutrients[i]])\n",
    "end\n",
    "@objective(m, Min, cost)\n",
    "                        \n",
    "solve(m)"
   ]
  },
  {
   "cell_type": "code",
   "execution_count": 12,
   "metadata": {
    "collapsed": false
   },
   "outputs": [
    {
     "name": "stdout",
     "output_type": "stream",
     "text": [
      "Price of optimal diet: $0.10866227820675685\n",
      "foodquant: 1 dimensions:\n",
      "[ Wheat Flour (Enriched)] = 0.02951906167648827\n",
      "[               Macaroni] = 0.0\n",
      "[Wheat Cereal (Enriched)] = 0.0\n",
      "[            Corn Flakes] = 0.0\n",
      "[              Corn Meal] = 0.0\n",
      "[           Hominy Grits] = 0.0\n",
      "[                   Rice] = 0.0\n",
      "[            Rolled Oats] = 0.0\n",
      "[ White Bread (Enriched)] = 0.0\n",
      "[      Whole Wheat Bread] = 0.0\n",
      "[              Rye Bread] = 0.0\n",
      "[             Pound Cake] = 0.0\n",
      "[          Soda Crackers] = 0.0\n",
      "[                   Milk] = 0.0\n",
      "[  Evaporated Milk (can)] = 0.0\n",
      "[                 Butter] = 0.0\n",
      "[          Oleomargarine] = 0.0\n",
      "[                   Eggs] = 0.0\n",
      "[       Cheese (Cheddar)] = 0.0\n",
      "[                  Cream] = 0.0\n",
      "[          Peanut Butter] = 0.0\n",
      "[             Mayonnaise] = 0.0\n",
      "[                 Crisco] = 0.0\n",
      "[                   Lard] = 0.0\n",
      "[          Sirloin Steak] = 0.0\n",
      "[            Round Steak] = 0.0\n",
      "[              Rib Roast] = 0.0\n",
      "[            Chuck Roast] = 0.0\n",
      "[                  Plate] = 0.0\n",
      "[           Liver (Beef)] = 0.0018925572907052643\n",
      "[            Leg of Lamb] = 0.0\n",
      "[       Lamb Chops (Rib)] = 0.0\n",
      "[             Pork Chops] = 0.0\n",
      "[        Pork Loin Roast] = 0.0\n",
      "[                  Bacon] = 0.0\n",
      "[            Ham, smoked] = 0.0\n",
      "[              Salt Pork] = 0.0\n",
      "[       Roasting Chicken] = 0.0\n",
      "[           Veal Cutlets] = 0.0\n",
      "[     Salmon, Pink (can)] = 0.0\n",
      "[                 Apples] = 0.0\n",
      "[                Bananas] = 0.0\n",
      "[                 Lemons] = 0.0\n",
      "[                Oranges] = 0.0\n",
      "[            Green Beans] = 0.0\n",
      "[                Cabbage] = 0.011214435246144865\n",
      "[                Carrots] = 0.0\n",
      "[                 Celery] = 0.0\n",
      "[                Lettuce] = 0.0\n",
      "[                 Onions] = 0.0\n",
      "[               Potatoes] = 0.0\n",
      "[                Spinach] = 0.005007660466725203\n",
      "[         Sweet Potatoes] = 0.0\n",
      "[          Peaches (can)] = 0.0\n",
      "[            Pears (can)] = 0.0\n",
      "[        Pineapple (can)] = 0.0\n",
      "[        Asparagus (can)] = 0.0\n",
      "[      Green Beans (can)] = 0.0\n",
      "[   Pork and Beans (can)] = 0.0\n",
      "[             Corn (can)] = 0.0\n",
      "[             Peas (can)] = 0.0\n",
      "[         Tomatoes (can)] = 0.0\n",
      "[      Tomato Soup (can)] = 0.0\n",
      "[         Peaches, Dried] = 0.0\n",
      "[          Prunes, Dried] = 0.0\n",
      "[         Raisins, Dried] = 0.0\n",
      "[            Peas, Dried] = 0.0\n",
      "[      Lima Beans, Dried] = 0.0\n",
      "[      Navy Beans, Dried] = 0.061028563526693246\n",
      "[                 Coffee] = 0.0\n",
      "[                    Tea] = 0.0\n",
      "[                  Cocoa] = 0.0\n",
      "[              Chocolate] = 0.0\n",
      "[                  Sugar] = 0.0\n",
      "[             Corn Syrup] = 0.0\n",
      "[               Molasses] = 0.0\n",
      "[   Strawberry Preserves] = 0.0\n",
      "\n"
     ]
    }
   ],
   "source": [
    "println(\"Price of optimal diet: \\$\", getobjectivevalue(m))\n",
    "println(getvalue(foodquant))"
   ]
  },
  {
   "cell_type": "markdown",
   "metadata": {},
   "source": [
    "## Vegan and Gluten-Free\n",
    "Below we use a modified version of the data file, which has all non-vegan items and items containing gluten (I think, it's all a bit vague to me whether something should be included or not) removed."
   ]
  },
  {
   "cell_type": "code",
   "execution_count": 13,
   "metadata": {
    "collapsed": true
   },
   "outputs": [],
   "source": [
    "using NamedArrays      # make sure you run Pkg.add(\"NamedArrays\") first!\n",
    "\n",
    "# import Stigler's data set\n",
    "raw = readcsv(\"/home/john/Documents/Optimization/tasteless_stigler.csv\")\n",
    "(m,n) = size(raw)\n",
    "\n",
    "n_nutrients = 2:n      # columns containing nutrients\n",
    "n_foods = 3:m          # rows containing food names\n",
    "\n",
    "nutrients = raw[1,n_nutrients][:]   # the list of nutrients (convert to 1-D array)\n",
    "foods = raw[n_foods,1][:]           # the list of foods (convert to 1-D array)\n",
    "\n",
    "# lower[i] is the minimum daily requirement of nutrient i.\n",
    "lower = Dict( zip(nutrients,raw[2,n_nutrients]) )\n",
    "\n",
    "# data[f,i] is the amount of nutrient i contained in food f.\n",
    "data = NamedArray( raw[n_foods,n_nutrients], (foods,nutrients), (\"foods\",\"nutrients\") );"
   ]
  },
  {
   "cell_type": "code",
   "execution_count": 14,
   "metadata": {
    "collapsed": false
   },
   "outputs": [
    {
     "data": {
      "text/plain": [
       ":Optimal"
      ]
     },
     "execution_count": 14,
     "metadata": {},
     "output_type": "execute_result"
    }
   ],
   "source": [
    "using JuMP\n",
    "\n",
    "m = Model()\n",
    "\n",
    "@variable(m, foodquant[foods] >= 0)\n",
    "@expression(m, cost, sum(foodquant[f] for f in foods))\n",
    "for i in 1:length(nutrients)\n",
    "    @constraint(m, sum(foodquant[f] * data[f,i] for f in foods) >= lower[nutrients[i]])\n",
    "end\n",
    "@objective(m, Min, cost)\n",
    "                        \n",
    "solve(m)"
   ]
  },
  {
   "cell_type": "code",
   "execution_count": 15,
   "metadata": {
    "collapsed": false
   },
   "outputs": [
    {
     "name": "stdout",
     "output_type": "stream",
     "text": [
      "Price of optimal diet: $0.12490013105281758\n",
      "foodquant: 1 dimensions:\n",
      "[           Corn Meal] = 0.005344246335991808\n",
      "[                Rice] = 0.0\n",
      "[         Rolled Oats] = 0.0\n",
      "[       Oleomargarine] = 0.0\n",
      "[       Peanut Butter] = 0.0\n",
      "[              Apples] = 0.0\n",
      "[             Bananas] = 0.0\n",
      "[              Lemons] = 0.0\n",
      "[             Oranges] = 0.0\n",
      "[         Green Beans] = 0.0\n",
      "[             Cabbage] = 0.01131324508827593\n",
      "[             Carrots] = 0.0\n",
      "[              Celery] = 0.0\n",
      "[             Lettuce] = 0.0\n",
      "[              Onions] = 0.0\n",
      "[            Potatoes] = 0.0\n",
      "[             Spinach] = 0.00517574850128731\n",
      "[      Sweet Potatoes] = 0.0\n",
      "[       Peaches (can)] = 0.0\n",
      "[         Pears (can)] = 0.0\n",
      "[     Pineapple (can)] = 0.0\n",
      "[     Asparagus (can)] = 0.0\n",
      "[   Green Beans (can)] = 0.0\n",
      "[          Corn (can)] = 0.0\n",
      "[          Peas (can)] = 0.0\n",
      "[      Tomatoes (can)] = 0.0\n",
      "[   Tomato Soup (can)] = 0.0\n",
      "[      Peaches, Dried] = 0.0\n",
      "[       Prunes, Dried] = 0.0\n",
      "[      Raisins, Dried] = 0.0\n",
      "[         Peas, Dried] = 0.0\n",
      "[   Lima Beans, Dried] = 0.0\n",
      "[   Navy Beans, Dried] = 0.10306689112726253\n",
      "[              Coffee] = 0.0\n",
      "[                 Tea] = 0.0\n",
      "[               Cocoa] = 0.0\n",
      "[               Sugar] = 0.0\n",
      "[          Corn Syrup] = 0.0\n",
      "[            Molasses] = 0.0\n",
      "[Strawberry Preserves] = 0.0\n",
      "\n"
     ]
    }
   ],
   "source": [
    "println(\"Price of optimal diet: \\$\", getobjectivevalue(m))\n",
    "println(getvalue(foodquant))"
   ]
  },
  {
   "cell_type": "markdown",
   "metadata": {},
   "source": [
    "## Feasible Construction Job?\n",
    "Below we determine whether or not there exists a solution to the scheduling problem with the given constraints."
   ]
  },
  {
   "cell_type": "code",
   "execution_count": 16,
   "metadata": {
    "collapsed": false
   },
   "outputs": [
    {
     "name": "stdout",
     "output_type": "stream",
     "text": [
      "Feasible Solution\n",
      "Project :: Month 1 :: Month 2 :: Month 3 :: Month 4\n",
      "   1    ::   0.0   ::   2.0   ::   6.0\n",
      "   2    ::   2.0   ::   0.0   ::   2.0   ::   6.0\n",
      "   3    ::   6.0   ::   6.0\n"
     ]
    }
   ],
   "source": [
    "using JuMP\n",
    "\n",
    "m = Model()\n",
    "\n",
    "@variable(m,0 <= p11 <= 6)\n",
    "@variable(m,0 <= p12 <= 6)\n",
    "@variable(m,0 <= p13 <= 6)\n",
    "@variable(m,0 <= p21 <= 6)\n",
    "@variable(m,0 <= p22 <= 6)\n",
    "@variable(m,0 <= p23 <= 6)\n",
    "@variable(m,0 <= p24 <= 6)\n",
    "@variable(m,0 <= p31 <= 6)\n",
    "@variable(m,0 <= p32 <= 6)\n",
    "\n",
    "@constraint(m, p11 + p12 + p13 >= 8)\n",
    "@constraint(m, p21 + p22 + p23 + p24 >= 10)\n",
    "@constraint(m, p31 + p32 >= 12)\n",
    "@constraint(m, p11 + p21 + p31 <= 8)\n",
    "@constraint(m, p12 + p22 + p32 <= 8)\n",
    "@constraint(m, p13 + p23 <= 8)\n",
    "@constraint(m, p24 <= 8)\n",
    "\n",
    "@objective(m, Min, p11 + p12 + p13 + p21 + p22 + p23 + p24 + p31 + p32)\n",
    "\n",
    "solve(m)\n",
    "\n",
    "println(\"Feasible Solution\")\n",
    "println(\"Project :: Month 1 :: Month 2 :: Month 3 :: Month 4\")\n",
    "println(\"   1    ::   \", getvalue(p11), \"   ::   \", getvalue(p12),   \"   ::   \", getvalue(p13))\n",
    "println(\"   2    ::   \", getvalue(p21), \"   ::   \", getvalue(p22),   \"   ::   \", getvalue(p23), \"   ::   \", getvalue(p24))\n",
    "println(\"   3    ::   \", getvalue(p31), \"   ::   \", getvalue(p32))"
   ]
  },
  {
   "cell_type": "markdown",
   "metadata": {},
   "source": [
    "## Optimal Museum Location\n",
    "Below we solve for the largest circle that can fit inside the planning site. Then, in order to ensure we are at least 50 feet from all roads, we subtract 50 feet from the optimal radius. "
   ]
  },
  {
   "cell_type": "code",
   "execution_count": 3,
   "metadata": {
    "collapsed": false
   },
   "outputs": [
    {
     "name": "stdout",
     "output_type": "stream",
     "text": [
      "Optimal\n",
      "The coordinates of the center of the museum's location[244.029,244.029]\n",
      "The largest possible radius is: 194.02852679380186\n"
     ]
    }
   ],
   "source": [
    "A = [-1 0; 0 -1; 0 1; (2/3) 1; 3 -1];\n",
    "b = [0; 0; 500; 700; 1500]\n",
    "\n",
    "using JuMP\n",
    "\n",
    "m = Model()\n",
    "@variable(m, r >= 0)           # radius\n",
    "@variable(m, x[1:2])           # coordinates of center\n",
    "for i = 1:size(A,1)\n",
    "    @constraint(m, A[i,:]'*x + r*norm(A[i,:]) .<= b[i])\n",
    "end\n",
    "@objective(m, Max, r)     # maximize radius\n",
    "\n",
    "status = solve(m)\n",
    "center = getvalue(x)\n",
    "radius = getvalue(r)\n",
    "\n",
    "println(status)\n",
    "println(\"The coordinates of the center of the museum's location\", center)\n",
    "println(\"The largest possible radius is: \", radius - 50)"
   ]
  },
  {
   "cell_type": "markdown",
   "metadata": {},
   "source": [
    "## Plotting the Museum\n",
    "Below is a plot of the museum's site along with the optimal location for the museum represented by the circle."
   ]
  },
  {
   "cell_type": "code",
   "execution_count": 8,
   "metadata": {
    "collapsed": false
   },
   "outputs": [
    {
     "data": {
      "image/png": "[encoded data removed]",
      "text/plain": [
       "PyPlot.Figure(PyObject <matplotlib.figure.Figure object at 0x7f79e5928690>)"
      ]
     },
     "metadata": {},
     "output_type": "display_data"
    }
   ],
   "source": [
    "using PyPlot\n",
    "\n",
    "r = radius - 50\n",
    "x0,y0 = center[1],center[2]\n",
    "\n",
    "t = linspace(0,2π,100)\n",
    "plot( x0 + r*cos(t), y0 + r*sin(t), \"g\")\n",
    "\n",
    "x = linspace(0,300,100)\n",
    "y = 500 + x - x\n",
    "plot(x,y,\"b\")\n",
    "\n",
    "x = linspace(300, 600, 300)\n",
    "y = (-2/3)x + 700\n",
    "plot(x,y,\"b\")\n",
    "\n",
    "x = linspace(500, 600, 100)\n",
    "y = 3x - 1500\n",
    "plot(x,y,\"b\")\n",
    "\n",
    "#plot([0,0], [500,0], \"b\")\n",
    "plot([0,500], [0,0], \"b\")\n",
    "\n",
    "grid()"
   ]
  },
  {
   "cell_type": "markdown",
   "metadata": {},
   "source": [
    "## Electricity Grid with Storage\n",
    "Determine the best way to utilize a newly purchased battery to minimize electricity costs to the town of Hamilton."
   ]
  },
  {
   "cell_type": "code",
   "execution_count": 160,
   "metadata": {
    "collapsed": false
   },
   "outputs": [
    {
     "name": "stdout",
     "output_type": "stream",
     "text": [
      "Buy [50 50 49 36 35 38 41 46 49 48 47 47 48 46 45 47 50 50 50 50 50 50 50 50] MWh at $100 rate\n",
      "Buy [0 0 0 0 0 0 0 0 0 0 0 0 0 0 0 0 0 13 15 15 13 15 7 0] MWh at $400 rate\n",
      "Battery Store: [0 7 17 30 30 30 30 30 30 30 30 30 30 30 30 30 30 30 30 20 10 1 0 0 0]\n",
      "Energy cost w/battery: $143400.0\n",
      "Energy cost w/o battery: $152400\n",
      "Total cost savings: $9000.0\n"
     ]
    }
   ],
   "source": [
    "d = [43 40 36 36 35 38 41 46 49 48 47 47 48 46 45 47 50 63 75 75 72 66 57 50 ]\n",
    "\n",
    "curcost = 0\n",
    "\n",
    "for i = 1:24\n",
    "    if d[i] > 50\n",
    "        curcost += 5000 + (d[i] - 50)*400\n",
    "    else\n",
    "        curcost += d[i] * 100\n",
    "    end\n",
    "end\n",
    "\n",
    "m = Model()\n",
    "@variable(m, 0 <= lp[1:24] <= 50)\n",
    "@variable(m, hp[1:24] >= 0)\n",
    "@variable(m, 0 <= bp[1:25] <= 30)\n",
    "@constraint(m, power[i in 1:24], lp[i] + hp[i] <= 65)\n",
    "@constraint(m, bp[1] == 0)\n",
    "@constraint(m, flow[i in 1:24], bp[i] + lp[i] + hp[i] == d[i] + bp[i + 1])\n",
    "@objective(m, Min, 100*sum(lp) + 400*sum(hp))\n",
    "\n",
    "solve(m)\n",
    "\n",
    "println(\"Buy \", Array{Int}(getvalue(lp')), \" MWh at \\$100 rate\")\n",
    "println(\"Buy \", Array{Int}(getvalue(hp')), \" MWh at \\$400 rate\")\n",
    "println(\"Battery Store: \" ,Array{Int}(getvalue(bp')))\n",
    "println(\"Energy cost w/battery: \\$\", getobjectivevalue(m))\n",
    "println(\"Energy cost w/o battery: \\$\", curcost)\n",
    "println(\"Total cost savings: \\$\", curcost - getobjectivevalue(m))"
   ]
  },
  {
   "cell_type": "markdown",
   "metadata": {},
   "source": [
    "What if we had a battery with an infinite capacity?"
   ]
  },
  {
   "cell_type": "code",
   "execution_count": 158,
   "metadata": {
    "collapsed": false
   },
   "outputs": [
    {
     "name": "stdout",
     "output_type": "stream",
     "text": [
      "Buy [50 50 50 50 50 50 50 50 50 50 50 50 50 50 50 50 50 50 50 50 50 50 50 50] MWh at $100 rate\n",
      "Buy [0 0 0 0 0 0 0 0 0 0 0 0 0 0 0 0 0 0 0 0 0 0 0 0] MWh at $400 rate\n",
      "Battery Store: [0 7 17 31 45 60 72 81 85 86 88 91 94 96 100 105 108 108 95 70 45 23 7 0 0]\n",
      "Energy cost w/battery: $120000.0\n",
      "Energy cost w/o battery: $152400\n",
      "Total cost savings: $32400.0\n"
     ]
    }
   ],
   "source": [
    "m = Model()\n",
    "@variable(m, 0 <= lp[1:24] <= 50)\n",
    "@variable(m, hp[1:24] >= 0)\n",
    "@variable(m, bp[1:25] >= 0)\n",
    "@constraint(m, power[i in 1:24], lp[i] + hp[i] <= 65)\n",
    "@constraint(m, bp[1] == 0)\n",
    "@constraint(m, flow[i in 1:24], bp[i] + lp[i] + hp[i] == d[i] + bp[i + 1])\n",
    "@objective(m, Min, 100*sum(lp) + 400*sum(hp))\n",
    "\n",
    "solve(m)\n",
    "\n",
    "println(\"Buy \", Array{Int}(getvalue(lp')), \" MWh at \\$100 rate\")\n",
    "println(\"Buy \", Array{Int}(getvalue(hp')), \" MWh at \\$400 rate\")\n",
    "println(\"Battery Store: \" ,Array{Int}(getvalue(bp')))\n",
    "println(\"Energy cost w/battery: \\$\", getobjectivevalue(m))\n",
    "println(\"Energy cost w/o battery: \\$\", curcost)\n",
    "println(\"Total cost savings: \\$\", curcost - getobjectivevalue(m))"
   ]
  },
  {
   "cell_type": "code",
   "execution_count": 163,
   "metadata": {
    "collapsed": false
   },
   "outputs": [
    {
     "data": {
      "image/png": "[encoded data removed]",
      "text/plain": [
       "PyPlot.Figure(PyObject <matplotlib.figure.Figure object at 0x7f0909724a50>)"
      ]
     },
     "metadata": {},
     "output_type": "display_data"
    },
    {
     "data": {
      "text/plain": [
       "1-element Array{Any,1}:\n",
       " PyObject <matplotlib.lines.Line2D object at 0x7f0909209750>"
      ]
     },
     "execution_count": 163,
     "metadata": {},
     "output_type": "execute_result"
    }
   ],
   "source": [
    "#plotting data from part a\n",
    "using PyPlot\n",
    "\n",
    "grid()\n",
    "xlabel(\"Hour of Day\")\n",
    "ylabel(\"MWh\")\n",
    "\n",
    "x = 1:24\n",
    "y = [43, 40, 36, 36, 35, 38, 41, 46, 49, 48, 47, 47, 48, 46, 45, 47, 50, 63, 75, 75, 72, 66, 57, 50 ]\n",
    "plot(x,y,\"b\")\n",
    "plot(x,getvalue(lp) + getvalue(hp),\"r\")\n",
    "\n",
    "x = 1:25\n",
    "plot(x,getvalue(bp),\"y\")"
   ]
  },
  {
   "cell_type": "markdown",
   "metadata": {},
   "source": [
    "## Uniqueness of Solution\n",
    "Certainly our solutions are not unique. For instance, consider part a. During hour 20, our current solution has us purchase 15 MWh of premium-rated electricity and then 13 premium-rated MWh are purchased at hour 21. We could just as easily have purchased 14 and 14 hours, respectively, as this does not violate the limits of the battery. "
   ]
  }
 ],
 "metadata": {
  "anaconda-cloud": {},
  "kernelspec": {
   "display_name": "Julia 0.5.0",
   "language": "julia",
   "name": "julia-0.5"
  },
  "language_info": {
   "file_extension": ".jl",
   "mimetype": "application/julia",
   "name": "julia",
   "version": "0.5.0"
  }
 },
 "nbformat": 4,
 "nbformat_minor": 2
}
